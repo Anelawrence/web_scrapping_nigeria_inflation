{
 "cells": [
  {
   "cell_type": "markdown",
   "id": "3e868e9e",
   "metadata": {},
   "source": [
    "### Introduction\n",
    "The major aim of this project is to webscrape Nigeria inflation data from worlddata.info, then draw some insights from the data."
   ]
  },
  {
   "cell_type": "code",
   "execution_count": 29,
   "id": "0e324318",
   "metadata": {},
   "outputs": [],
   "source": [
    "# The url to extract data from\n",
    "url = \"https://www.worlddata.info/africa/nigeria/inflation-rates.php\""
   ]
  },
  {
   "cell_type": "markdown",
   "id": "39d75d08",
   "metadata": {},
   "source": [
    "Import the neccesary libraries"
   ]
  },
  {
   "cell_type": "code",
   "execution_count": 30,
   "id": "8666eb22",
   "metadata": {},
   "outputs": [],
   "source": [
    "from bs4 import BeautifulSoup # parsing the HTML contents\n",
    "import requests # requests for approval for the data to be web scrapped, and also to get the html contents\n",
    "import pandas as pd \n",
    "import numpy as np\n",
    "import matplotlib.pyplot as plt\n",
    "import seaborn as sb"
   ]
  },
  {
   "cell_type": "code",
   "execution_count": 31,
   "id": "d49035a8",
   "metadata": {},
   "outputs": [
    {
     "data": {
      "text/plain": [
       "<!DOCTYPE HTML>\n",
       "<html lang=\"en\"><head><meta charset=\"utf-8\"/><title>Inflation rates in Nigeria</title><link href=\"https://js.worlddata.info\" rel=\"preconnect\"/><link href=\"https://js.worlddata.info\" rel=\"dns-prefetch\"/><link href=\"https://cdn.worlddata.info\" rel=\"preconnect\"/><link href=\"https://cdn.worlddata.info\" rel=\"dns-prefetch\"/><link href=\"https://www.laenderdaten.info/Afrika/Nigeria/inflationsraten.php\" hreflang=\"de\" rel=\"alternate\"/><link href=\"https://www.worlddata.info/africa/nigeria/inflation-rates.php\" hreflang=\"en\" rel=\"alternate\"/><link href=\"https://www.datosmundial.com/africa/nigeria/inflacion.php\" hreflang=\"es\" rel=\"alternate\"/><link href=\"https://www.dadosmundiais.com/africa/nigeria/inflacao.php\" hreflang=\"pt-BR\" rel=\"alternate\"/><link href=\"https://www.donneesmondiales.com/afrique/nigeria/inflation.php\" hreflang=\"fr\" rel=\"alternate\"/><link href=\"https://www.worlddata.info/africa/nigeria/inflation-rates.php\" id=\"canonical\" rel=\"canonical\"/><meta content=\"Development of inflation rates over the last 61 years in Nigeria incl. comparison with the U.S.\" name=\"description\"/><meta content=\"index,follow,max-image-preview:large\" name=\"robots\"/><meta content=\"true\" name=\"HandheldFriendly\"/><meta content=\"360\" name=\"MobileOptimized\"/><meta content=\"width=device-width,minimum-scale=1,initial-scale=1,user-scalable=yes\" name=\"viewport\"/><meta content=\"#00405D\" media=\"(prefers-color-scheme:light)\" name=\"theme-color\"/><meta content=\"#000000\" media=\"(prefers-color-scheme:dark)\" name=\"theme-color\"/><link href=\"//cdn.worlddata.info/pics/favs/64x64.png\" rel=\"icon\" sizes=\"16x16 24x24 32x32 48x48 64x64\" type=\"image/png\"/><link href=\"//cdn.worlddata.info/pics/favs/192x192.png\" rel=\"apple-touch-icon\" sizes=\"72x72 76x76 114x114 120x120 144x144 152x152 180x180 192x192\"/><link href=\"//cdn.worlddata.info/pics/favs/apple-touch-icon-precomposed.png\" rel=\"apple-touch-icon-precomposed\"/><link href=\"//cdn.worlddata.info/css/footer6-en.css\" media=\"print\" onload=\"this.media='all'\" rel=\"stylesheet\"/><noscript><link href=\"//cdn.worlddata.info/css/footer6-en.css\" rel=\"stylesheet\"/></noscript><meta content=\"Inflation rates in Nigeria\" property=\"og:title\"/><meta content=\"Development of inflation rates over the last 61 years in Nigeria incl. comparison with the U.S.\" property=\"og:description\"/><meta content=\"website\" property=\"og:type\"/><meta content=\"https://www.worlddata.info/africa/nigeria/inflation-rates.php\" property=\"og:url\"/><meta content=\"en_US\" property=\"og:locale\"/><meta content=\"Worlddata.info\" property=\"og:site_name\"/><meta content=\"https://cdn.worlddata.info/graphs/performance/nigeria-usa.png\" property=\"og:image\"/><meta content=\"400\" property=\"og:image:width\"/><meta content=\"180\" property=\"og:image:height\"/><meta content=\"https://cdn.worlddata.info/graphs/performance/nigeria-usa.png\" name=\"twitter:image\"/><meta content=\"Inflation rates in Nigeria\" name=\"twitter:title\"/><meta content=\"summary\" name=\"twitter:card\"/><meta content=\"Development of inflation rates over the last 61 years in Nigeria incl. comparison with the U.S.\" name=\"twitter:description\"/><script defer=\"\" src=\"//js.worlddata.info/public9-en.js\"></script><style>html,body{background-color:#DBD7D0;margin:0;font-size:9pt;color:#000;font-family:Verdana,Arial,Helvetica,Roboto;line-height:135%}#outer-wrap{max-width:990px;margin:0 auto;box-shadow:0 0 30px 5px rgba(0,0,0,.3);background-color:#fff}header{padding:80px 0 0 0;background-image:linear-gradient(to bottom,#fff 25%,#e2e2e2)}#navbar{height:13px}#sitetitle{float:left;width:300px;height:35px;text-align:left;padding-left:10px;margin-top:-5px}#topnav a,abbr{text-decoration:none !important}img,table{border:0}#intro1{position:relative;overflow:hidden;height:auto;box-sizing:border-box;color:#fff;padding:0}#intro3{position:relative;background-color:rgba(0,70,99,.75);padding:4% 4% 30px 4%;text-align:left;box-sizing:border-box}#intro1 a{color:#0ff}#blurbg{position:absolute;top:-20px;left:-20px;right:-20px;bottom:-20px;overflow:hidden;background-repeat:no-repeat;background-position:center center;background-size:cover;filter:blur(3px)}#blurbg.satellite{filter:blur(0px)}#intro3.satellite{background-color:rgba(0,40,40,.7)}.boxwhite{background-color:#fff;padding:30px}.greybg{background-color:#eee}.clear{clear:both}.large{font-size:2em;margin:20px 0}a.langh{padding-left:22px}.center,tr.center th,tr.center td,div.map{text-align:center}.left,tr.left th:not(.right),tr.left td:not(.right){text-align:left !important}.right,tr.right th:not(.left),tr.right td:not(.left){text-align:right}.top,tr.top th:not(.bottom),tr.top td:not(.bottom){vertical-align:top}.bottom,tr.bottom th:not(.top),tr.bottom td:not(.top){vertical-align:bottom}img.right{float:right}img.deko{display:none;max-width:340px;height:auto;float:left;box-shadow:3px 3px 6px #000;margin:0 50px 30px 0}.floater{overflow:hidden}a{color:#3B45BA}h1{font-size:25pt;margin-top:0px;font-weight:normal;line-height:30pt;text-shadow:2px 2px 3px rgba(0,0,0,.5)}h2,.h2{font-size:16pt;color:#0D1656;line-height:160%;font-weight:normal}h3,.h3{font-size:13pt;color:#0D1656;line-height:140%;font-weight:normal;margin-bottom:10px}.nowrap{white-space:nowrap}img.shadow{box-shadow:3px 3px 6px #000}img.graph,picture.graph{max-width:100%;height:auto;margin:0 auto}br.br2,br.br3{display:block;margin-bottom:1em;content:' '}br.br3{margin-bottom:2em}a.btn,input.btn,button.btn{background-color:#666;color:#fff !important;padding:3px 20px 3px 20px;border:0px;border-radius:9px;cursor:pointer;text-align:center;text-decoration:none;white-space:nowrap}#intro1 .btn{background-color:#fff;color:#3B45BA !important}.boxwhite .btn{color:#3B45BA;font-weight:bold}.adtg{min-height:3px;text-align:center}#vidad{min-height:250px}div.hrz,div.bbd{display:block;width:auto;min-width:728px;min-height:90px;margin:5px auto 10px auto}div.bbd{min-width:970px;min-height:325px;margin:0}.cad,.cad-right{display:block;min-width:300px}ins.adsbygoogle{display:block;margin:0 auto}#stickyad{width:100%;height:auto;overflow:hidden;position:fixed;bottom:0;z-index:9999999}#searchform form{display:block;width:auto;padding:1px 1px 0 2px;border:1px solid #02968C;background-color:#fff;border-radius:5px;float:right}#searchform input[type=text]{width:185px;height:20px;font-size:13px;outline:none;border:0;background-color:transparent;color:#000}#searchgo{border:0;background-color:transparent;height:21px;width:21px;vertical-align:middle;margin:0 0 2px 15px}#menubtn{font-size:34px;color:#000;margin-right:10px;float:right;width:auto;display:inline-block}@media (max-width:630px){html,body{font-size:11pt}header{display:block;position:fixed;top:0;left:0;right:0;height:23px;padding:16px 12px;z-index:998;background-image:linear-gradient(to bottom,#fff,#e2e2e2);-webkit-transition: all .5s ease-in-out;-moz-transition: all .5s ease-in-out;transition: all .5s ease-in-out}#sitetitle{width:240px;height:28px;padding-left:7px;margin-bottom:5px}#searchform form{width:240px;margin:15px auto;float:none;background-color:#D7DCDF}#searchform{border-bottom:1px solid #60A0BD;padding-bottom:15px}#inner-wrap{margin-top:55px}.ab630,#navbar{display:none}.sidenav{display:block;position:fixed;top:0;bottom:0;left:100%;width:250px;padding:10px;background-color:#ddd;z-index:999;overflow-y:auto}.nav-out{-webkit-transform:translateX(10%);-moz-transform:translateX(10%);transform:translateX(10%)}.boxwhite{padding:10px 4% 30px 4%}h1{font-size:20pt}.cad,.cad-right,.cad-fix,.bbd{min-height:100px}div.cad-right{float:none;margin:10px 0 10px 0}div.hrz{min-width:auto;min-height:50px}div.bbd{min-width:auto;min-height:305px}}@media (max-width:380px){.boxwhite{padding:10px 2% 30px 2%}}@media (min-width:631px){#searchform{position:absolute;top:15px;width:100%;max-width:970px;margin:auto;z-index:1000;text-align:left}a.langh{font-size:8pt;color:#333;margin:0 7px;opacity:.6}#menubtn,.no-desktop,#topnav .subtitle{display:none}#topnav{display:inline-block;width:545px;float:right;text-align:left;padding-top:15px}#topnav a{float:left;width:73px;text-align:center;font-size:11pt;padding-bottom:3px}#topnav a.eu{width:83px}#topnav a.am{width:95px}#topnav a.au{width:105px}#topnav a.oz{width:100px}img.deko{display:block}#intro3{min-height:423px}.cad,.cad-right,.cad-fix{min-height:250px;max-width:336px}.cad-right+h2{margin-top:-5px}.cad-right{float:right;width:300px;margin:0 0 10px 20px}}@media (max-width:800px){img.deko{max-width:250px;margin:0 30px 20px 0}}@media(prefers-color-scheme:dark){html,body,#searchform form{background-color:#414141;color:#eaeaea}#outer-wrap,.boxwhite{background-color:#000}header{background-image:linear-gradient(to bottom,#000 30%,#333)}a{color:#31E5DB}h2,.h2,h3,.h3{color:#84D8F6}#searchcombo,.greybg{background-color:#222}#intro3{background-color:rgba(0,37,48,.77)}div#intro2,#intro3.satellite{background-color:rgba(0,25,25,.77)}#sitetitle{filter:brightness(4) saturate(.7)}#menubtn{color:#3CEFEF}div>#infresult{background-color:#003D5A}}.std100 tr>*:not(:first-of-type){text-align:right;min-width:20%}.curform{font-size:11pt;width:100%;box-sizing:border-box;border:1px solid #1E9696;background-color:#fff;color:#000;padding:3px;font-family:Arial,Helvetica;border-radius:4px}.thirdbox{width:30%;float:left;margin:0px 20px 20px 0px}.thirdbox:nth-of-type(3){margin:0px 0px 20px 20px}#infresult{display:none;margin-top:15px;background-color:#ddd;padding:8px;border-radius:10px}.cgrey{background-color:#eee}@media (max-width:440px){.thirdbox{width:100%}}</style></head><body data-page=\"Africa:Nigeria:Inflationsraten\"><div id=\"outer-wrap\"><div id=\"inner-wrap\"><header><nav id=\"menubtn\" onclick=\"toggleNav('topnav');\">☰</nav><div id=\"searchcombo\"></div><a href=\"/\"><img alt=\"Worlddata.info\" height=\"35\" id=\"sitetitle\" src=\"//cdn.worlddata.info/pics/logo-en750.png\" width=\"300\"/></a><nav class=\"sidenav nav-out\" data-navbardefault=\"349\" id=\"topnav\"><div class=\"subtitle\"><b id=\"navclose\" onclick=\"toggleNav('topnav');\">✕</b> Countries in...</div><a class=\"am\" data-navbar=\"585\" href=\"/america/index.php\">Americas</a><a class=\"eu\" data-navbar=\"500\" href=\"/europe/index.php\">Europe</a><a class=\"as\" data-navbar=\"421\" href=\"/asia/index.php\">Asia</a><a class=\"af\" data-navbar=\"349\" href=\"/africa/index.php\">Africa</a><a class=\"au\" data-navbar=\"260\" href=\"/australia/index.php\">Australia</a><a class=\"oz\" data-navbar=\"155\" href=\"/oceania/index.php\">Oceania</a><div class=\"no-desktop\"><div class=\"subtitle\">Geography</div><a href=\"/the-largest-countries.php\">Largest countries</a><a href=\"/highest-mountains.php\">Highest mountains</a><a href=\"/capital-cities.php\">Capital cities</a><a href=\"/megacities.php\">Megacities</a><a href=\"/biggest-airports.php\">Biggest airports</a><a href=\"/timezones/index.php\">Timezones</a><div class=\"subtitle\">Population</div><a href=\"/populationgrowth.php\">Population growth</a><a href=\"/population-density.php\">Population density</a><a href=\"/average-bodyheight.php\">Average body heights</a><a href=\"/life-expectancy.php\">Life expectancy</a><a href=\"/iq-by-country.php\">IQ by country</a><a href=\"/quality-of-life.php\">Quality of life</a><a href=\"/languages/index.php\">Languages</a><a href=\"/religions/index.php\">Religions</a><a href=\"/refugees-by-country.php\">Refugees</a><div class=\"subtitle\">Economy</div><a href=\"/richest-countries.php\">Richest countries</a><a href=\"/unemployment-rates.php\">Unemployment rates</a><a href=\"/average-income.php\">Average income</a><a href=\"/cost-of-living.php\">Cost of living</a><a href=\"/tourism.php\">Top travel countries</a><a href=\"/corruption.php\">Corruption</a><a href=\"/tax-havens.php\">Tax havens</a><a href=\"/currencies/\">Currencies</a><div class=\"subtitle\">Climate + Nature</div><a href=\"/earthquakes.php\">Earthquakes</a><a href=\"/volcanoes.php\">Volcanoes</a><a href=\"/cyclones.php\">Cyclones</a><a href=\"/global-warming.php\">Global warming</a><a href=\"/greenhouse-gas-by-country.php\">CO2 emissions</a></div></nav><div class=\"clear\" data-pos=\"-349\" id=\"navbar\" style=\"background-position:-349px 0px;\"></div></header><main id=\"main\"><div id=\"intro1\"><div id=\"blurbg\" style=\"background-image:url(//cdn.worlddata.info/pics/flags-bg/NGA.jpg);\"></div><div id=\"intro3\"><h1>Inflation rates in Nigeria</h1> The inflation rate for consumer prices in Nigeria moved over the past 61 years between -3.7% and 72.8%. For 2021, an inflation rate of 17.0% was calculated.<br/><br/>During the observation period from 1960 to 2021, the <strong>average inflation rate was 16.1%</strong> per year. Overall, the price increase was 566,919.92%. An item that cost 100 nairas in 1960 costs 567,019.92 nairas at the beginning of 2022.<br/><br/><br/>› <a href=\"/inflation.php\">Inflation rates in global comparison</a><br/><br/><br/><a class=\"btn\" href=\"index.php\">Back to overview: Nigeria</a><br/><br/><div class=\"clear\"></div></div></div><div class=\"adtg bbd\" data-gptfrmt=\"bbd\" id=\"adtg-1\"><ins class=\"adsbygoogle\" data-ad-client=\"ca-pub-0315193065476355\" data-ad-format=\"horizontal\" data-ad-slot=\"2913722277\" data-full-width-responsive=\"true\" id=\"ags1\"></ins></div><div class=\"boxwhite\"><h2>Performance over the last 61 years compared with the USA</h2>In only a few countries are negative inflation rates achieved. This means that the general price level is declining and consumer prices get cheaper. This is called deflation. In comparison to most other countries, the drastic price increases are no longer average. Usually this is a sign of political and economic turmoil.<br/><br/><strong>Performance based on 100% in 1959:</strong><picture class=\"graph\"><source media=\"(max-width:630px)\" srcset=\"//cdn.worlddata.info/graphs/performance/nigeria-usa.png 400w, //cdn.worlddata.info/graphs/performance/nigeria-usa-800.png 800w\"><source srcset=\"//cdn.worlddata.info/graphs/performance/nigeria-usa.png 400w, //cdn.worlddata.info/graphs/performance/nigeria-usa-800.png 800w, //cdn.worlddata.info/graphs/performance/nigeria-usa-930.png 930w\"><img alt=\"Performance in Nigeria\" class=\"graph\" height=\"180\" loading=\"lazy\" src=\"//cdn.worlddata.info/graphs/performance/nigeria-usa-930.png\" width=\"930\"/></source></source></picture><br/><br/><center><span class=\"graphlegend\" style=\"background-color:rgba(32,157,148,.7); border:1px solid transparent;\">     </span> Nigeria <span class=\"graphlegend\" style=\"background-color:rgba(223,129,126,.7); border:1px solid transparent; margin-left:50px;\">     </span> USA</center><br/><br/></div><div class=\"boxwhite cgrey\"><h2>Inflation calculator for Nigeria</h2>Enter any amount, an initial year and an end year here. You will then be provided with the original amount after inflation. Example: 1,000 nairas in 1960 corresponds to 5,670,199.17 nairas at the beginning of 2022 due to inflation.<br/><br/><div class=\"thirdbox\"><form name=\"inflation\" onsubmit=\"inflationCalc(); return false;\">Original amount in nairas:<br/><input aria-label=\"Amount\" class=\"curform\" name=\"am\" onchange=\"inflationCalc();\" type=\"number\" value=\"1000\"/><br/><br/>Start year:<br/><select aria-label=\"First year\" class=\"curform\" id=\"y1\" name=\"y1\" onchange=\"inflationCalc();\"><option selected=\"\" value=\"1960\">1960</option><option value=\"1961\">1961</option><option value=\"1962\">1962</option><option value=\"1963\">1963</option><option value=\"1964\">1964</option><option value=\"1965\">1965</option><option value=\"1966\">1966</option><option value=\"1967\">1967</option><option value=\"1968\">1968</option><option value=\"1969\">1969</option><option value=\"1970\">1970</option><option value=\"1971\">1971</option><option value=\"1972\">1972</option><option value=\"1973\">1973</option><option value=\"1974\">1974</option><option value=\"1975\">1975</option><option value=\"1976\">1976</option><option value=\"1977\">1977</option><option value=\"1978\">1978</option><option value=\"1979\">1979</option><option value=\"1980\">1980</option><option value=\"1981\">1981</option><option value=\"1982\">1982</option><option value=\"1983\">1983</option><option value=\"1984\">1984</option><option value=\"1985\">1985</option><option value=\"1986\">1986</option><option value=\"1987\">1987</option><option value=\"1988\">1988</option><option value=\"1989\">1989</option><option value=\"1990\">1990</option><option value=\"1991\">1991</option><option value=\"1992\">1992</option><option value=\"1993\">1993</option><option value=\"1994\">1994</option><option value=\"1995\">1995</option><option value=\"1996\">1996</option><option value=\"1997\">1997</option><option value=\"1998\">1998</option><option value=\"1999\">1999</option><option value=\"2000\">2000</option><option value=\"2001\">2001</option><option value=\"2002\">2002</option><option value=\"2003\">2003</option><option value=\"2004\">2004</option><option value=\"2005\">2005</option><option value=\"2006\">2006</option><option value=\"2007\">2007</option><option value=\"2008\">2008</option><option value=\"2009\">2009</option><option value=\"2010\">2010</option><option value=\"2011\">2011</option><option value=\"2012\">2012</option><option value=\"2013\">2013</option><option value=\"2014\">2014</option><option value=\"2015\">2015</option><option value=\"2016\">2016</option><option value=\"2017\">2017</option><option value=\"2018\">2018</option><option value=\"2019\">2019</option><option value=\"2020\">2020</option><option value=\"2021\">2021</option><option value=\"2022\">2022</option></select><br/><br/>End year:<br/><select aria-label=\"End year\" class=\"curform\" id=\"y2\" name=\"y2\" onchange=\"inflationCalc();\"><option value=\"1961\">1961</option><option value=\"1962\">1962</option><option value=\"1963\">1963</option><option value=\"1964\">1964</option><option value=\"1965\">1965</option><option value=\"1966\">1966</option><option value=\"1967\">1967</option><option value=\"1968\">1968</option><option value=\"1969\">1969</option><option value=\"1970\">1970</option><option value=\"1971\">1971</option><option value=\"1972\">1972</option><option value=\"1973\">1973</option><option value=\"1974\">1974</option><option value=\"1975\">1975</option><option value=\"1976\">1976</option><option value=\"1977\">1977</option><option value=\"1978\">1978</option><option value=\"1979\">1979</option><option value=\"1980\">1980</option><option value=\"1981\">1981</option><option value=\"1982\">1982</option><option value=\"1983\">1983</option><option value=\"1984\">1984</option><option value=\"1985\">1985</option><option value=\"1986\">1986</option><option value=\"1987\">1987</option><option value=\"1988\">1988</option><option value=\"1989\">1989</option><option value=\"1990\">1990</option><option value=\"1991\">1991</option><option value=\"1992\">1992</option><option value=\"1993\">1993</option><option value=\"1994\">1994</option><option value=\"1995\">1995</option><option value=\"1996\">1996</option><option value=\"1997\">1997</option><option value=\"1998\">1998</option><option value=\"1999\">1999</option><option value=\"2000\">2000</option><option value=\"2001\">2001</option><option value=\"2002\">2002</option><option value=\"2003\">2003</option><option value=\"2004\">2004</option><option value=\"2005\">2005</option><option value=\"2006\">2006</option><option value=\"2007\">2007</option><option value=\"2008\">2008</option><option value=\"2009\">2009</option><option value=\"2010\">2010</option><option value=\"2011\">2011</option><option value=\"2012\">2012</option><option value=\"2013\">2013</option><option value=\"2014\">2014</option><option value=\"2015\">2015</option><option value=\"2016\">2016</option><option value=\"2017\">2017</option><option value=\"2018\">2018</option><option value=\"2019\">2019</option><option value=\"2020\">2020</option><option value=\"2021\">2021</option><option selected=\"\" value=\"2022\">2022</option><option value=\"2023\">2023</option></select><br/><br/><input aria-label=\"Calculate\" class=\"btn\" name=\"btn\" style=\"margin:5px 8px 8px 0;background-color:#747474;color:#fff;\" type=\"submit\" value=\"Calculate\"/></form></div><div class=\"floater\" id=\"infresult\"><span id=\"w2\"></span><br/><br/><span id=\"ps\"></span><br/><br/><span data-cur=\"nairas\" id=\"avgps\"></span><div id=\"est_hint\" style=\"font-size:0.9em;display:none;\"><br/><br/>Note: Inflation rates after 2021 are not yet available here. For the following years, the last available rate of 16.95% is used in this calculator.</div></div><div class=\"clear\"></div><script> function inflationCalc() { var d=document,cf=d.inflation,v1=cf.am.value,jahre=0,cur=d.getElementById('avgps').dataset.cur; y1=parseInt(d.getElementById('y1')[d.getElementById('y1').selectedIndex].value,10); y2=parseInt(d.getElementById('y2')[d.getElementById('y2').selectedIndex].value,10); let rates={\"1960\":5.44,\"1961\":6.28,\"1962\":5.27,\"1963\":-2.69,\"1964\":0.86,\"1965\":4.1,\"1966\":9.69,\"1967\":-3.73,\"1968\":-0.48,\"1969\":10.16,\"1970\":13.76,\"1971\":16,\"1972\":3.46,\"1973\":5.4,\"1974\":12.67,\"1975\":33.96,\"1976\":24.3,\"1977\":15.09,\"1978\":21.71,\"1979\":11.71,\"1980\":9.97,\"1981\":20.81,\"1982\":7.7,\"1983\":23.21,\"1984\":17.82,\"1985\":7.44,\"1986\":5.72,\"1987\":11.29,\"1988\":54.51,\"1989\":50.47,\"1990\":7.36,\"1991\":13.01,\"1992\":44.59,\"1993\":57.17,\"1994\":57.03,\"1995\":72.84,\"1996\":29.27,\"1997\":8.53,\"1998\":10,\"1999\":6.62,\"2000\":6.93,\"2001\":18.87,\"2002\":12.88,\"2003\":14.03,\"2004\":15,\"2005\":17.86,\"2006\":8.23,\"2007\":5.39,\"2008\":11.58,\"2009\":12.55,\"2010\":13.72,\"2011\":10.84,\"2012\":12.22,\"2013\":8.48,\"2014\":8.06,\"2015\":9.01,\"2016\":15.68,\"2017\":16.52,\"2018\":12.1,\"2019\":11.4,\"2020\":13.25,\"2021\":16.95,\"2022\":16.95,\"2023\":16.95}; if (isNaN(parseInt(v1,10))){alert('Please only enter amounts with integers here.');return false;} if (y1>=y2){alert('The final year must be after the first year.');return false;} var v1=parseInt(v1,10),v2=v1; for (y=y1;y<y2;y++){ v2+=(v2/100*parseFloat(rates[y],10)); jahre++; } if (v2>=v1){ ps=Number.parseFloat((v2-v1)*100/v1).toFixed(1); d.getElementById('ps').innerHTML='Price increase (= depreciation) in '+jahre+' years: <b>'+ps+'%</b>'; d.getElementById('avgps').innerHTML='This corresponds to an average depreciation of '+Number.parseFloat((v2-v1)/jahre).toFixed(2)+' '+cur+' per year.'; } else { ps=Number.parseFloat((v1-v2)*100/v1).toFixed(1); d.getElementById('ps').innerHTML='Price decline (= increase in value) in '+jahre+' years: <b>'+ps+'%</b>'; d.getElementById('avgps').innerHTML='This corresponds to an average increase in value of '+Number.parseFloat((v1-v2)/jahre).toFixed(2)+' '+cur+' per year.'; } if(y2>2020){d.getElementById('est_hint').style.display='block';}else{d.getElementById('est_hint').style.display='none';} d.getElementById('w2').innerHTML='Value at the beginning of '+y2+': <b>'+Number.parseFloat(v2).toFixed(2)+' '+cur+'</b>'; d.getElementById('infresult').style.display='block'; return false; } </script></div><div class=\"adtg video\" data-gptfrmt=\"vid\" id=\"adtg-2\" style=\"width:auto; margin:0 auto;\"><ins class=\"adsbygoogle\" data-ad-client=\"ca-pub-0315193065476355\" data-ad-format=\"horizontal\" data-ad-slot=\"3247214056\" data-full-width-responsive=\"true\" id=\"ags2\"></ins></div><div class=\"boxwhite\"><h2>Inflation rates for consumer goods in Nigeria</h2><picture class=\"graph\"><source media=\"(max-width:630px)\" srcset=\"//cdn.worlddata.info/graphs/inflation/nigeria-400.png 400w, //cdn.worlddata.info/graphs/inflation/nigeria-800.png 800w\"><source srcset=\"//cdn.worlddata.info/graphs/inflation/nigeria-400.png 400w, //cdn.worlddata.info/graphs/inflation/nigeria-800.png 800w, //cdn.worlddata.info/graphs/inflation/nigeria-930.png 930w\"><img alt=\"Inflation rates for consumer goods in Nigeria\" class=\"graph\" height=\"200\" loading=\"lazy\" src=\"//cdn.worlddata.info/graphs/inflation/nigeria-930.png\" width=\"930\"/></source></source></picture><br/><br/><center><span class=\"graphlegend\" style=\"background-color:rgba(32,157,148,.7);\">     </span> Nigeria <span class=\"graphlegend\" style=\"background-color:rgba(223,129,126,.7); margin-left:50px;\">     </span> USA</center><br/><h2>Historical inflation rates in comparison</h2><div class=\"tablescroller\"><table class=\"std100 hover\"><tr><th>Year</th><th>Nigeria</th><th>Ø EU</th><th>Ø USA</th><th>Ø World</th></tr><tr><td>2021</td><td>16.95 %</td><td>2.55 %</td><td>4.70 %</td><td>3.48 %</td></tr><tr><td>2020</td><td>13.25 %</td><td>0.50 %</td><td>1.23 %</td><td>1.92 %</td></tr><tr><td>2019</td><td>11.40 %</td><td>1.63 %</td><td>1.81 %</td><td>2.19 %</td></tr><tr><td>2018</td><td>12.10 %</td><td>1.74 %</td><td>2.44 %</td><td>2.44 %</td></tr><tr><td>2017</td><td>16.52 %</td><td>1.43 %</td><td>2.13 %</td><td>2.19 %</td></tr><tr><td>2016</td><td>15.68 %</td><td>0.18 %</td><td>1.26 %</td><td>1.55 %</td></tr><tr><td>2015</td><td>9.01 %</td><td>-0.06 %</td><td>0.12 %</td><td>1.43 %</td></tr><tr><td>2014</td><td>8.06 %</td><td>0.20 %</td><td>1.62 %</td><td>2.35 %</td></tr><tr><td>2013</td><td>8.48 %</td><td>1.22 %</td><td>1.46 %</td><td>2.62 %</td></tr><tr><td>2012</td><td>12.22 %</td><td>2.66 %</td><td>2.07 %</td><td>3.73 %</td></tr><tr><td>2011</td><td>10.84 %</td><td>3.29 %</td><td>3.16 %</td><td>4.82 %</td></tr><tr><td>2010</td><td>13.72 %</td><td>1.53 %</td><td>1.64 %</td><td>3.35 %</td></tr><tr><td>2009</td><td>12.55 %</td><td>0.84 %</td><td>-0.36 %</td><td>2.94 %</td></tr><tr><td>2008</td><td>11.58 %</td><td>4.16 %</td><td>3.84 %</td><td>8.95 %</td></tr><tr><td>2007</td><td>5.39 %</td><td>2.51 %</td><td>2.85 %</td><td>4.82 %</td></tr><tr><td>2006</td><td>8.23 %</td><td>2.67 %</td><td>3.23 %</td><td>4.28 %</td></tr><tr><td>2005</td><td>17.86 %</td><td>2.49 %</td><td>3.39 %</td><td>4.11 %</td></tr><tr><td>2004</td><td>15.00 %</td><td>2.29 %</td><td>2.68 %</td><td>3.38 %</td></tr><tr><td>2003</td><td>14.03 %</td><td>2.09 %</td><td>2.27 %</td><td>3.03 %</td></tr><tr><td>2002</td><td>12.88 %</td><td>2.42 %</td><td>1.59 %</td><td>2.83 %</td></tr><tr><td>2001</td><td>18.87 %</td><td>3.37 %</td><td>2.83 %</td><td>3.84 %</td></tr><tr><td>2000</td><td>6.93 %</td><td>3.15 %</td><td>3.38 %</td><td>3.49 %</td></tr><tr><td>1999</td><td>6.62 %</td><td>2.16 %</td><td>2.19 %</td><td>3.08 %</td></tr><tr><td>1998</td><td>10.00 %</td><td>2.42 %</td><td>1.55 %</td><td>5.11 %</td></tr><tr><td>1997</td><td>8.53 %</td><td>3.11 %</td><td>2.34 %</td><td>5.57 %</td></tr><tr><td>1996</td><td>29.27 %</td><td>3.56 %</td><td>2.93 %</td><td>6.55 %</td></tr><tr><td>1995</td><td>72.84 %</td><td>4.43 %</td><td>2.81 %</td><td>9.15 %</td></tr><tr><td>1994</td><td>57.03 %</td><td>4.72 %</td><td>2.61 %</td><td>10.32 %</td></tr><tr><td>1993</td><td>57.17 %</td><td>4.85 %</td><td>2.95 %</td><td>7.51 %</td></tr><tr><td>1992</td><td>44.59 %</td><td>6.22 %</td><td>3.03 %</td><td>7.71 %</td></tr><tr><td>1991</td><td>13.01 %</td><td>5.48 %</td><td>4.23 %</td><td>9.00 %</td></tr><tr><td>1990</td><td>7.36 %</td><td>6.15 %</td><td>5.40 %</td><td>8.13 %</td></tr><tr><td>1989</td><td>50.47 %</td><td>6.26 %</td><td>4.83 %</td><td>7.00 %</td></tr><tr><td>1988</td><td>54.51 %</td><td>4.54 %</td><td>4.08 %</td><td>7.15 %</td></tr><tr><td>1987</td><td>11.29 %</td><td>4.02 %</td><td>3.66 %</td><td>5.76 %</td></tr><tr><td>1986</td><td>5.72 %</td><td>3.68 %</td><td>1.90 %</td><td>5.82 %</td></tr><tr><td>1985</td><td>7.44 %</td><td>5.40 %</td><td>3.55 %</td><td>6.86 %</td></tr><tr><td>1984</td><td>17.82 %</td><td>7.67 %</td><td>4.30 %</td><td>8.12 %</td></tr><tr><td>1983</td><td>23.21 %</td><td>8.67 %</td><td>3.21 %</td><td>8.77 %</td></tr><tr><td>1982</td><td>7.70 %</td><td>9.58 %</td><td>6.13 %</td><td>10.24 %</td></tr><tr><td>1981</td><td>20.81 %</td><td>11.77 %</td><td>10.33 %</td><td>12.47 %</td></tr><tr><td>1980</td><td>9.97 %</td><td>12.91 %</td><td>13.55 %</td><td>13.98 %</td></tr><tr><td>1979</td><td>11.71 %</td><td>8.22 %</td><td>11.25 %</td><td>n/a</td></tr><tr><td>1978</td><td>21.71 %</td><td>7.76 %</td><td>7.63 %</td><td>n/a</td></tr><tr><td>1977</td><td>15.09 %</td><td>9.77 %</td><td>6.50 %</td><td>n/a</td></tr><tr><td>1976</td><td>24.30 %</td><td>9.35 %</td><td>5.74 %</td><td>n/a</td></tr><tr><td>1975</td><td>33.96 %</td><td>10.47 %</td><td>9.14 %</td><td>n/a</td></tr><tr><td>1974</td><td>12.67 %</td><td>13.16 %</td><td>11.05 %</td><td>n/a</td></tr><tr><td>1973</td><td>5.40 %</td><td>7.75 %</td><td>6.18 %</td><td>n/a</td></tr><tr><td>1972</td><td>3.46 %</td><td>6.01 %</td><td>3.27 %</td><td>n/a</td></tr><tr><td>1971</td><td>16.00 %</td><td>5.24 %</td><td>4.29 %</td><td>n/a</td></tr><tr><td>1970</td><td>13.76 %</td><td>4.51 %</td><td>5.84 %</td><td>n/a</td></tr><tr><td>1969</td><td>10.16 %</td><td>2.67 %</td><td>5.46 %</td><td>n/a</td></tr><tr><td>1968</td><td>-0.48 %</td><td>3.24 %</td><td>4.27 %</td><td>n/a</td></tr><tr><td>1967</td><td>-3.73 %</td><td>3.32 %</td><td>2.77 %</td><td>n/a</td></tr><tr><td>1966</td><td>9.69 %</td><td>3.70 %</td><td>3.02 %</td><td>n/a</td></tr><tr><td>1965</td><td>4.10 %</td><td>3.99 %</td><td>1.59 %</td><td>n/a</td></tr><tr><td>1964</td><td>0.86 %</td><td>3.42 %</td><td>1.28 %</td><td>n/a</td></tr><tr><td>1963</td><td>-2.69 %</td><td>2.92 %</td><td>1.24 %</td><td>n/a</td></tr><tr><td>1962</td><td>5.27 %</td><td>3.55 %</td><td>1.20 %</td><td>n/a</td></tr><tr><td>1961</td><td>6.28 %</td><td>2.08 %</td><td>1.07 %</td><td>n/a</td></tr><tr><td>1960</td><td>5.44 %</td><td>1.74 %</td><td>1.46 %</td><td>n/a</td></tr></table></div><br/>Data basis: International Monetary Fund, World Bank and OECD Inflation CPI indicator (doi:10.1787/eee82e6e-en)</div><div class=\"adtg bbd\" data-gptfrmt=\"bbd\" data-nads=\"1\" id=\"adtg-3\" style=\"min-height:90px;\"></div><div class=\"mteaser\"><div><a href=\"/largest-economies.php\"><img alt=\"Largest economies in the world\" height=\"130\" loading=\"lazy\" src=\"//cdn.worlddata.info/pics/economy.jpg\" width=\"284\"/>The 50 largest economies in the world</a>List of the 50 largest and strongest economies in the world according to their gross domestic product</div><div><a href=\"/country-comparison.php?country1=NGA&amp;country2=USA\"><img alt=\"Comparison: Nigeria / United States\" height=\"130\" loading=\"lazy\" src=\"//cdn.worlddata.info/pics/compare/nga-usa.jpg\" width=\"284\"/>Country comparison: Nigeria / United States of America</a>The United States of America and Nigeria compared: demography, Economy, energy, languages and further dimensions.</div><div><a href=\"/heavily-indebted-poor-countries.php\"><img alt=\"Heavily Indebted Poor Countries\" height=\"130\" loading=\"lazy\" src=\"//cdn.worlddata.info/pics/entwicklungslaender-hv.jpg\" width=\"284\"/>List of the 36 Heavily Indebted Poor Countries</a>Information on the 36 heavily indebted states that could not survive without subsidies.</div></div></main><footer id=\"footer\"><div id=\"socials\"></div><div class=\"breadcrumbs\">You are here: <a href=\"/\">Home</a> › <a href=\"/africa/index.php\">Africa</a> › <a href=\"/africa/nigeria/index.php\">Nigeria</a> › <span style=\"color:#00FFFF;\">Inflation</span></div><script type=\"application/ld+json\">{\"@context\": \"https://schema.org\",\"@type\":\"BreadcrumbList\",\"itemListElement\":[{\"@type\":\"ListItem\",\"position\":1,\"name\":\"Homepage\",\"item\":\"https://www.worlddata.info/\"},{\"@type\":\"ListItem\",\"position\":2,\"name\":\"Africa\",\"item\":\"https://www.worlddata.info/africa/index.php\"},{\"@type\":\"ListItem\",\"position\":3,\"name\":\"Nigeria\",\"item\":\"https://www.worlddata.info/africa/nigeria/index.php\"},{\"@type\":\"ListItem\",\"position\":4,\"name\":\"Inflation\",\"item\":\"https://www.worlddata.info/africa/nigeria/inflation-rates.php\"}]}</script><a href=\"/quiz/\">Country Quiz</a><a href=\"/countrycodes.php\">Country codes</a><a href=\"/downloads/\">CSV downloads</a><a href=\"/definition-country.php\">What is a country?</a><div id=\"searchform\"><form action=\"/search.php\" method=\"get\"><input aria-label=\"search term\" autocomplete=\"off\" id=\"searcht\" name=\"q\" placeholder=\"search\" type=\"text\" value=\"\"/><button aria-label=\"start search\" id=\"searchgo\"></button></form><a class=\"langh\" href=\"https://www.laenderdaten.info/Afrika/Nigeria/inflationsraten.php\" hreflang=\"de\" lang=\"de\" rel=\"alternate\" style=\"background-position:2px 1px;\" title=\"Nigeria: Inflation\">deutsch</a><a class=\"langh\" href=\"https://www.datosmundial.com/africa/nigeria/inflacion.php\" hreflang=\"es\" lang=\"es\" rel=\"alternate\" style=\"background-position:-348px 1px;\" title=\"Nigeria: Inflación\">español</a><a class=\"langh\" href=\"https://www.dadosmundiais.com/africa/nigeria/inflacao.php\" hreflang=\"pt-BR\" lang=\"pt-BR\" rel=\"alternate\" style=\"background-position:-688px 1px;\" title=\"Nigéria: Inflação\">português</a><a class=\"langh\" href=\"https://www.donneesmondiales.com/afrique/nigeria/inflation.php\" hreflang=\"fr\" lang=\"fr\" rel=\"alternate\" style=\"background-position:-518px 1px;\" title=\"Nigeria: Inflation\">français</a></div><br/><br/><a class=\"legal\" href=\"/about.php\">About worlddata.info</a><a class=\"legal\" href=\"/privacypolicy.php\">Privacy policy</a><a class=\"legal\" href=\"/cookieconsent2.php\" onclick=\"return openCookieconsent(1);\" rel=\"nofollow\">Cookie settings</a><br/><br/>Data without guarantee © WorldData.info, all rights reserved</footer></div></div><style>@media(prefers-color-scheme:dark){img.graph,.graphlegend{filter:brightness(1.5)}}</style></body></html>"
      ]
     },
     "execution_count": 31,
     "metadata": {},
     "output_type": "execute_result"
    }
   ],
   "source": [
    "r = requests.get(url)\n",
    "#r.status_code\n",
    "soup = BeautifulSoup(r.content)\n",
    "soup"
   ]
  },
  {
   "cell_type": "code",
   "execution_count": 32,
   "id": "c81e466b",
   "metadata": {},
   "outputs": [
    {
     "data": {
      "text/html": [
       "<div>\n",
       "<style scoped>\n",
       "    .dataframe tbody tr th:only-of-type {\n",
       "        vertical-align: middle;\n",
       "    }\n",
       "\n",
       "    .dataframe tbody tr th {\n",
       "        vertical-align: top;\n",
       "    }\n",
       "\n",
       "    .dataframe thead th {\n",
       "        text-align: right;\n",
       "    }\n",
       "</style>\n",
       "<table border=\"1\" class=\"dataframe\">\n",
       "  <thead>\n",
       "    <tr style=\"text-align: right;\">\n",
       "      <th></th>\n",
       "      <th>Year</th>\n",
       "      <th>Nigeria</th>\n",
       "      <th>Ø EU</th>\n",
       "      <th>Ø USA</th>\n",
       "      <th>Ø World</th>\n",
       "    </tr>\n",
       "  </thead>\n",
       "  <tbody>\n",
       "  </tbody>\n",
       "</table>\n",
       "</div>"
      ],
      "text/plain": [
       "Empty DataFrame\n",
       "Columns: [Year, Nigeria, Ø EU, Ø USA, Ø World]\n",
       "Index: []"
      ]
     },
     "execution_count": 32,
     "metadata": {},
     "output_type": "execute_result"
    }
   ],
   "source": [
    "#Extracting the DataFrame column titles\n",
    "list_row = []\n",
    "for header in soup.find_all(\"th\"):\n",
    "    list_row.append(header.text)\n",
    "\n",
    "df = pd.DataFrame(columns= list_row)\n",
    "df"
   ]
  },
  {
   "cell_type": "code",
   "execution_count": 33,
   "id": "17c1ad4d",
   "metadata": {},
   "outputs": [
    {
     "data": {
      "text/html": [
       "<div>\n",
       "<style scoped>\n",
       "    .dataframe tbody tr th:only-of-type {\n",
       "        vertical-align: middle;\n",
       "    }\n",
       "\n",
       "    .dataframe tbody tr th {\n",
       "        vertical-align: top;\n",
       "    }\n",
       "\n",
       "    .dataframe thead th {\n",
       "        text-align: right;\n",
       "    }\n",
       "</style>\n",
       "<table border=\"1\" class=\"dataframe\">\n",
       "  <thead>\n",
       "    <tr style=\"text-align: right;\">\n",
       "      <th></th>\n",
       "      <th>Year</th>\n",
       "      <th>Nigeria</th>\n",
       "      <th>Ø EU</th>\n",
       "      <th>Ø USA</th>\n",
       "      <th>Ø World</th>\n",
       "    </tr>\n",
       "  </thead>\n",
       "  <tbody>\n",
       "    <tr>\n",
       "      <th>0</th>\n",
       "      <td>2021</td>\n",
       "      <td>16.95 %</td>\n",
       "      <td>2.55 %</td>\n",
       "      <td>4.70 %</td>\n",
       "      <td>3.48 %</td>\n",
       "    </tr>\n",
       "    <tr>\n",
       "      <th>1</th>\n",
       "      <td>2020</td>\n",
       "      <td>13.25 %</td>\n",
       "      <td>0.50 %</td>\n",
       "      <td>1.23 %</td>\n",
       "      <td>1.92 %</td>\n",
       "    </tr>\n",
       "    <tr>\n",
       "      <th>2</th>\n",
       "      <td>2019</td>\n",
       "      <td>11.40 %</td>\n",
       "      <td>1.63 %</td>\n",
       "      <td>1.81 %</td>\n",
       "      <td>2.19 %</td>\n",
       "    </tr>\n",
       "    <tr>\n",
       "      <th>3</th>\n",
       "      <td>2018</td>\n",
       "      <td>12.10 %</td>\n",
       "      <td>1.74 %</td>\n",
       "      <td>2.44 %</td>\n",
       "      <td>2.44 %</td>\n",
       "    </tr>\n",
       "    <tr>\n",
       "      <th>4</th>\n",
       "      <td>2017</td>\n",
       "      <td>16.52 %</td>\n",
       "      <td>1.43 %</td>\n",
       "      <td>2.13 %</td>\n",
       "      <td>2.19 %</td>\n",
       "    </tr>\n",
       "  </tbody>\n",
       "</table>\n",
       "</div>"
      ],
      "text/plain": [
       "   Year  Nigeria    Ø EU   Ø USA Ø World\n",
       "0  2021  16.95 %  2.55 %  4.70 %  3.48 %\n",
       "1  2020  13.25 %  0.50 %  1.23 %  1.92 %\n",
       "2  2019  11.40 %  1.63 %  1.81 %  2.19 %\n",
       "3  2018  12.10 %  1.74 %  2.44 %  2.44 %\n",
       "4  2017  16.52 %  1.43 %  2.13 %  2.19 %"
      ]
     },
     "execution_count": 33,
     "metadata": {},
     "output_type": "execute_result"
    }
   ],
   "source": [
    "#Extracting the table content adding it to the DataFrame\n",
    "tr_ = soup.find_all(\"tr\")\n",
    "list_of_rows = []\n",
    "for table_row in range(1,len(tr_)):   \n",
    "    list_for_each_row = []\n",
    "    tr_mini = tr_[table_row]\n",
    "    for row in tr_mini:\n",
    "        list_for_each_row.append(row.text)\n",
    "    list_of_rows.append(list_for_each_row)\n",
    "\n",
    "for i in list_of_rows:\n",
    "    df.loc[len(df)] = i\n",
    "    \n",
    "df.head()\n",
    "#list_of_rows"
   ]
  },
  {
   "cell_type": "code",
   "execution_count": 34,
   "id": "3c6c4d40",
   "metadata": {},
   "outputs": [],
   "source": [
    "# renaming the column name to remove Ø sign\n",
    "df.rename(columns= {'Ø EU': 'EU',\n",
    "                   'Ø USA': 'USA',\n",
    "                  'Ø World': 'World'}, inplace=True)"
   ]
  },
  {
   "cell_type": "code",
   "execution_count": 35,
   "id": "e3250d8a",
   "metadata": {},
   "outputs": [
    {
     "data": {
      "text/plain": [
       "Index(['Year', 'Nigeria', 'EU', 'USA', 'World'], dtype='object')"
      ]
     },
     "execution_count": 35,
     "metadata": {},
     "output_type": "execute_result"
    }
   ],
   "source": [
    "df.columns"
   ]
  },
  {
   "cell_type": "code",
   "execution_count": 36,
   "id": "361371ce",
   "metadata": {},
   "outputs": [
    {
     "data": {
      "text/plain": [
       "(62, 5)"
      ]
     },
     "execution_count": 36,
     "metadata": {},
     "output_type": "execute_result"
    }
   ],
   "source": [
    "# checking for the shape of my data\n",
    "df.shape"
   ]
  },
  {
   "cell_type": "code",
   "execution_count": 37,
   "id": "c17e86ba",
   "metadata": {},
   "outputs": [],
   "source": [
    "#Removing the % sign from the values\n",
    "cols = ['Nigeria','EU','USA','World']\n",
    "df[cols] = df[cols].replace({'%':''}, regex=True)"
   ]
  },
  {
   "cell_type": "code",
   "execution_count": 38,
   "id": "17c660e3",
   "metadata": {},
   "outputs": [
    {
     "data": {
      "text/html": [
       "<div>\n",
       "<style scoped>\n",
       "    .dataframe tbody tr th:only-of-type {\n",
       "        vertical-align: middle;\n",
       "    }\n",
       "\n",
       "    .dataframe tbody tr th {\n",
       "        vertical-align: top;\n",
       "    }\n",
       "\n",
       "    .dataframe thead th {\n",
       "        text-align: right;\n",
       "    }\n",
       "</style>\n",
       "<table border=\"1\" class=\"dataframe\">\n",
       "  <thead>\n",
       "    <tr style=\"text-align: right;\">\n",
       "      <th></th>\n",
       "      <th>Year</th>\n",
       "      <th>Nigeria</th>\n",
       "      <th>EU</th>\n",
       "      <th>USA</th>\n",
       "      <th>World</th>\n",
       "    </tr>\n",
       "  </thead>\n",
       "  <tbody>\n",
       "    <tr>\n",
       "      <th>0</th>\n",
       "      <td>2021</td>\n",
       "      <td>16.95</td>\n",
       "      <td>2.55</td>\n",
       "      <td>4.70</td>\n",
       "      <td>3.48</td>\n",
       "    </tr>\n",
       "    <tr>\n",
       "      <th>1</th>\n",
       "      <td>2020</td>\n",
       "      <td>13.25</td>\n",
       "      <td>0.50</td>\n",
       "      <td>1.23</td>\n",
       "      <td>1.92</td>\n",
       "    </tr>\n",
       "    <tr>\n",
       "      <th>2</th>\n",
       "      <td>2019</td>\n",
       "      <td>11.40</td>\n",
       "      <td>1.63</td>\n",
       "      <td>1.81</td>\n",
       "      <td>2.19</td>\n",
       "    </tr>\n",
       "    <tr>\n",
       "      <th>3</th>\n",
       "      <td>2018</td>\n",
       "      <td>12.10</td>\n",
       "      <td>1.74</td>\n",
       "      <td>2.44</td>\n",
       "      <td>2.44</td>\n",
       "    </tr>\n",
       "    <tr>\n",
       "      <th>4</th>\n",
       "      <td>2017</td>\n",
       "      <td>16.52</td>\n",
       "      <td>1.43</td>\n",
       "      <td>2.13</td>\n",
       "      <td>2.19</td>\n",
       "    </tr>\n",
       "  </tbody>\n",
       "</table>\n",
       "</div>"
      ],
      "text/plain": [
       "   Year Nigeria     EU    USA  World\n",
       "0  2021  16.95   2.55   4.70   3.48 \n",
       "1  2020  13.25   0.50   1.23   1.92 \n",
       "2  2019  11.40   1.63   1.81   2.19 \n",
       "3  2018  12.10   1.74   2.44   2.44 \n",
       "4  2017  16.52   1.43   2.13   2.19 "
      ]
     },
     "execution_count": 38,
     "metadata": {},
     "output_type": "execute_result"
    }
   ],
   "source": [
    "df.head()"
   ]
  },
  {
   "cell_type": "code",
   "execution_count": 39,
   "id": "d41181bc",
   "metadata": {},
   "outputs": [
    {
     "data": {
      "text/plain": [
       "Year       0\n",
       "Nigeria    0\n",
       "EU         0\n",
       "USA        0\n",
       "World      0\n",
       "dtype: int64"
      ]
     },
     "execution_count": 39,
     "metadata": {},
     "output_type": "execute_result"
    }
   ],
   "source": [
    "df.isnull().sum()"
   ]
  },
  {
   "cell_type": "code",
   "execution_count": 40,
   "id": "ef05eed1",
   "metadata": {},
   "outputs": [
    {
     "data": {
      "text/plain": [
       "Year       object\n",
       "Nigeria    object\n",
       "EU         object\n",
       "USA        object\n",
       "World      object\n",
       "dtype: object"
      ]
     },
     "execution_count": 40,
     "metadata": {},
     "output_type": "execute_result"
    }
   ],
   "source": [
    "df.dtypes"
   ]
  },
  {
   "cell_type": "code",
   "execution_count": 41,
   "id": "459d9d67",
   "metadata": {},
   "outputs": [
    {
     "data": {
      "text/plain": [
       "array(['3.48 ', '1.92 ', '2.19 ', '2.44 ', '1.55 ', '1.43 ', '2.35 ',\n",
       "       '2.62 ', '3.73 ', '4.82 ', '3.35 ', '2.94 ', '8.95 ', '4.28 ',\n",
       "       '4.11 ', '3.38 ', '3.03 ', '2.83 ', '3.84 ', '3.49 ', '3.08 ',\n",
       "       '5.11 ', '5.57 ', '6.55 ', '9.15 ', '10.32 ', '7.51 ', '7.71 ',\n",
       "       '9.00 ', '8.13 ', '7.00 ', '7.15 ', '5.76 ', '5.82 ', '6.86 ',\n",
       "       '8.12 ', '8.77 ', '10.24 ', '12.47 ', '13.98 ', 'n/a'],\n",
       "      dtype=object)"
      ]
     },
     "execution_count": 41,
     "metadata": {},
     "output_type": "execute_result"
    }
   ],
   "source": [
    "df['World'].unique()"
   ]
  },
  {
   "cell_type": "code",
   "execution_count": 42,
   "id": "027e5bbf",
   "metadata": {},
   "outputs": [],
   "source": [
    "df['World'] = df['World'].replace({'n/a':'13.98'}, regex=True)"
   ]
  },
  {
   "cell_type": "code",
   "execution_count": 43,
   "id": "1c344024",
   "metadata": {},
   "outputs": [],
   "source": [
    "df = df.astype(float)"
   ]
  },
  {
   "cell_type": "code",
   "execution_count": 44,
   "id": "38cd7ae2",
   "metadata": {},
   "outputs": [],
   "source": [
    "df['Year']= df['Year'].astype(int)"
   ]
  },
  {
   "cell_type": "code",
   "execution_count": 45,
   "id": "b088c575",
   "metadata": {},
   "outputs": [
    {
     "data": {
      "text/plain": [
       "Year         int32\n",
       "Nigeria    float64\n",
       "EU         float64\n",
       "USA        float64\n",
       "World      float64\n",
       "dtype: object"
      ]
     },
     "execution_count": 45,
     "metadata": {},
     "output_type": "execute_result"
    }
   ],
   "source": [
    "df.dtypes"
   ]
  },
  {
   "cell_type": "code",
   "execution_count": 46,
   "id": "8350aaff",
   "metadata": {},
   "outputs": [
    {
     "data": {
      "text/html": [
       "<div>\n",
       "<style scoped>\n",
       "    .dataframe tbody tr th:only-of-type {\n",
       "        vertical-align: middle;\n",
       "    }\n",
       "\n",
       "    .dataframe tbody tr th {\n",
       "        vertical-align: top;\n",
       "    }\n",
       "\n",
       "    .dataframe thead th {\n",
       "        text-align: right;\n",
       "    }\n",
       "</style>\n",
       "<table border=\"1\" class=\"dataframe\">\n",
       "  <thead>\n",
       "    <tr style=\"text-align: right;\">\n",
       "      <th></th>\n",
       "      <th>Year</th>\n",
       "      <th>Nigeria</th>\n",
       "      <th>EU</th>\n",
       "      <th>USA</th>\n",
       "      <th>World</th>\n",
       "    </tr>\n",
       "  </thead>\n",
       "  <tbody>\n",
       "    <tr>\n",
       "      <th>0</th>\n",
       "      <td>2021</td>\n",
       "      <td>16.95</td>\n",
       "      <td>2.55</td>\n",
       "      <td>4.70</td>\n",
       "      <td>3.48</td>\n",
       "    </tr>\n",
       "    <tr>\n",
       "      <th>1</th>\n",
       "      <td>2020</td>\n",
       "      <td>13.25</td>\n",
       "      <td>0.50</td>\n",
       "      <td>1.23</td>\n",
       "      <td>1.92</td>\n",
       "    </tr>\n",
       "    <tr>\n",
       "      <th>2</th>\n",
       "      <td>2019</td>\n",
       "      <td>11.40</td>\n",
       "      <td>1.63</td>\n",
       "      <td>1.81</td>\n",
       "      <td>2.19</td>\n",
       "    </tr>\n",
       "    <tr>\n",
       "      <th>3</th>\n",
       "      <td>2018</td>\n",
       "      <td>12.10</td>\n",
       "      <td>1.74</td>\n",
       "      <td>2.44</td>\n",
       "      <td>2.44</td>\n",
       "    </tr>\n",
       "    <tr>\n",
       "      <th>4</th>\n",
       "      <td>2017</td>\n",
       "      <td>16.52</td>\n",
       "      <td>1.43</td>\n",
       "      <td>2.13</td>\n",
       "      <td>2.19</td>\n",
       "    </tr>\n",
       "  </tbody>\n",
       "</table>\n",
       "</div>"
      ],
      "text/plain": [
       "   Year  Nigeria    EU   USA  World\n",
       "0  2021    16.95  2.55  4.70   3.48\n",
       "1  2020    13.25  0.50  1.23   1.92\n",
       "2  2019    11.40  1.63  1.81   2.19\n",
       "3  2018    12.10  1.74  2.44   2.44\n",
       "4  2017    16.52  1.43  2.13   2.19"
      ]
     },
     "execution_count": 46,
     "metadata": {},
     "output_type": "execute_result"
    }
   ],
   "source": [
    "df.head()"
   ]
  },
  {
   "cell_type": "markdown",
   "id": "13d0d9fa",
   "metadata": {},
   "source": [
    "### Data Exploration\n",
    "\n",
    "##### 1. Which year has the highest and lowest inflation rate in Nigeria?"
   ]
  },
  {
   "cell_type": "code",
   "execution_count": 47,
   "id": "d587bed4",
   "metadata": {},
   "outputs": [
    {
     "data": {
      "text/html": [
       "<div>\n",
       "<style scoped>\n",
       "    .dataframe tbody tr th:only-of-type {\n",
       "        vertical-align: middle;\n",
       "    }\n",
       "\n",
       "    .dataframe tbody tr th {\n",
       "        vertical-align: top;\n",
       "    }\n",
       "\n",
       "    .dataframe thead th {\n",
       "        text-align: right;\n",
       "    }\n",
       "</style>\n",
       "<table border=\"1\" class=\"dataframe\">\n",
       "  <thead>\n",
       "    <tr style=\"text-align: right;\">\n",
       "      <th></th>\n",
       "      <th>Year</th>\n",
       "      <th>Nigeria</th>\n",
       "    </tr>\n",
       "  </thead>\n",
       "  <tbody>\n",
       "    <tr>\n",
       "      <th>26</th>\n",
       "      <td>1995</td>\n",
       "      <td>72.84</td>\n",
       "    </tr>\n",
       "  </tbody>\n",
       "</table>\n",
       "</div>"
      ],
      "text/plain": [
       "    Year  Nigeria\n",
       "26  1995    72.84"
      ]
     },
     "execution_count": 47,
     "metadata": {},
     "output_type": "execute_result"
    }
   ],
   "source": [
    "#the year with highest inflation in Nigeria\n",
    "df.loc[lambda df: df['Nigeria'] == df.Nigeria.max()][['Year','Nigeria']]"
   ]
  },
  {
   "cell_type": "code",
   "execution_count": 48,
   "id": "97200527",
   "metadata": {},
   "outputs": [
    {
     "data": {
      "text/html": [
       "<div>\n",
       "<style scoped>\n",
       "    .dataframe tbody tr th:only-of-type {\n",
       "        vertical-align: middle;\n",
       "    }\n",
       "\n",
       "    .dataframe tbody tr th {\n",
       "        vertical-align: top;\n",
       "    }\n",
       "\n",
       "    .dataframe thead th {\n",
       "        text-align: right;\n",
       "    }\n",
       "</style>\n",
       "<table border=\"1\" class=\"dataframe\">\n",
       "  <thead>\n",
       "    <tr style=\"text-align: right;\">\n",
       "      <th></th>\n",
       "      <th>Year</th>\n",
       "      <th>Nigeria</th>\n",
       "    </tr>\n",
       "  </thead>\n",
       "  <tbody>\n",
       "    <tr>\n",
       "      <th>54</th>\n",
       "      <td>1967</td>\n",
       "      <td>-3.73</td>\n",
       "    </tr>\n",
       "  </tbody>\n",
       "</table>\n",
       "</div>"
      ],
      "text/plain": [
       "    Year  Nigeria\n",
       "54  1967    -3.73"
      ]
     },
     "execution_count": 48,
     "metadata": {},
     "output_type": "execute_result"
    }
   ],
   "source": [
    "#Year with the lowest inflation in Nigeria\n",
    "df.loc[lambda df: df['Nigeria'] == df.Nigeria.min()][['Year','Nigeria']]"
   ]
  },
  {
   "cell_type": "code",
   "execution_count": 62,
   "id": "672be053",
   "metadata": {},
   "outputs": [
    {
     "data": {
      "image/png": "[encoded data removed]",
      "text/plain": [
       "<Figure size 1080x720 with 1 Axes>"
      ]
     },
     "metadata": {},
     "output_type": "display_data"
    }
   ],
   "source": [
    "fig, ax = plt.subplots(figsize=(15, 10))\n",
    "sb.set_style('whitegrid')\n",
    "sb.barplot(x= df.Year, y= df['Nigeria'], ci=None, estimator=sum)\n",
    "plt.title('INFLATION RATE IN NIGERIA FROM 1960 TO 2021')\n",
    "plt.xticks(rotation='vertical')\n",
    "plt.savefig(\"barplot.png\")\n",
    "plt.show()"
   ]
  },
  {
   "cell_type": "markdown",
   "id": "c1faef32",
   "metadata": {},
   "source": [
    "1995 has the highest infaltion rate with 72.84%. \n",
    "While 1967 has the lowest rate with -3.73%."
   ]
  },
  {
   "cell_type": "markdown",
   "id": "7fe86049",
   "metadata": {},
   "source": [
    "##### 2. Comparing the inflation rate between Nigeria, EU, USA and The World."
   ]
  },
  {
   "cell_type": "code",
   "execution_count": 63,
   "id": "dff7f15d",
   "metadata": {},
   "outputs": [
    {
     "data": {
      "image/png": "[encoded data removed]",
      "text/plain": [
       "<Figure size 1080x720 with 1 Axes>"
      ]
     },
     "metadata": {},
     "output_type": "display_data"
    }
   ],
   "source": [
    "fig, ax = plt.subplots(figsize=(15, 10))\n",
    "sb.lineplot(data=df, x='Year', y='Nigeria', color='green')\n",
    "sb.lineplot(data=df, x='Year', y='EU', color='blue')\n",
    "sb.lineplot(data=df, x='Year', y='USA', color='red')\n",
    "sb.lineplot(data=df, x='Year', y='World', color='yellow')\n",
    "plt.legend(['Nigeria','EU', 'USA', 'World'], loc= 'upper left')\n",
    "plt.title('Comparing The Inflation Rate Between Nigeria, EU, USA and The World')\n",
    "plt.xticks(rotation='vertical')\n",
    "plt.savefig(\"lineplot.png\")\n",
    "plt.show()"
   ]
  },
  {
   "cell_type": "markdown",
   "id": "72569c2c",
   "metadata": {},
   "source": [
    "Nigeria's inflation rate is the highest over the years among EU, USA and the World. But lower than the global average between 1960 to 1970. And has it's peak between 1990 and 1996."
   ]
  },
  {
   "cell_type": "markdown",
   "id": "2628b23f",
   "metadata": {},
   "source": [
    "### OBSERVATION\n",
    "These indicate that Nigeria has a higher inflation rate than other countries since 1990 to 2021. Also, Nigerian inflation trend has the highest irregular variation. 1995 is the highest year on record, saw a particularly high increase with 72% inflation rate. Although in 1963, 1967, and 1968 we had rates below 0 with -2.69%, -3.73%, and -0.48 respectively. Between 1960 and 179%, the global inflation rate remained constant at 2.19%. However, it increased to 13.98% in 1980, the highest recorded rate. Comparing these countries, the USA has the best control over inflation. However, they were also impacted by the 1980 inflation rate, which peaked at 13.55% but quickly declined to 3.21% in 1983."
   ]
  }
 ],
 "metadata": {
  "kernelspec": {
   "display_name": "Python 3 (ipykernel)",
   "language": "python",
   "name": "python3"
  },
  "language_info": {
   "codemirror_mode": {
    "name": "ipython",
    "version": 3
   },
   "file_extension": ".py",
   "mimetype": "text/x-python",
   "name": "python",
   "nbconvert_exporter": "python",
   "pygments_lexer": "ipython3",
   "version": "3.9.1"
  }
 },
 "nbformat": 4,
 "nbformat_minor": 5
}
